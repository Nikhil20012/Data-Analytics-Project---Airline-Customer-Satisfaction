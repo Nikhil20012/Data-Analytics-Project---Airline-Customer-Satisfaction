{
 "cells": [
  {
   "cell_type": "code",
   "execution_count": 2,
   "metadata": {},
   "outputs": [
    {
     "data": {
      "text/plain": [
       "0.8939328611025562"
      ]
     },
     "execution_count": 2,
     "metadata": {},
     "output_type": "execute_result"
    }
   ],
   "source": [
    "import seaborn as sns\n",
    "import matplotlib.pyplot as plt\n",
    "import pandas as pd\n",
    "import numpy as np\n",
    "from sklearn.model_selection import train_test_split\n",
    "from sklearn.ensemble import AdaBoostClassifier\n",
    "df=pd.read_csv ('Invistico_Airline.csv')\n",
    "df.replace(\"satisfied\",int(1),inplace=True)\n",
    "df.replace(\"dissatisfied\",int(0),inplace=True)\n",
    "df.replace(\"Eco\",int(0),inplace=True)\n",
    "df.replace(\"Business\",int(2),inplace=True)\n",
    "df.replace(\"Eco Plus\",int(1),inplace=True)\n",
    "df.replace(\"Loyal Customer\",int(1),inplace=True)\n",
    "df.replace(\"disloyal Customer\",int(0),inplace=True)\n",
    "df.replace('Female',int(0),inplace = True)\n",
    "df.replace('Male',int(1),inplace = True)\n",
    "df.drop('Gate location',axis=1,inplace=True)\n",
    "df.drop('Type of Travel',axis=1,inplace=True)\n",
    "df['Arrival Delay in Minutes'] = df['Arrival Delay in Minutes'].fillna(df['Arrival Delay in Minutes'].median())\n",
    "\n",
    "X = df.drop(['satisfaction'], axis = 1)\n",
    "y = df['satisfaction']\n",
    "X_train,X_val,Y_train,Y_val = train_test_split(X,y,test_size=0.25,random_state=28)\n",
    "\n",
    "adb = AdaBoostClassifier()\n",
    "adb_model = adb.fit(X_train,Y_train)\n",
    "\n",
    "adb_model.score(X_val,Y_val)\n"
   ]
  },
  {
   "cell_type": "code",
   "execution_count": null,
   "metadata": {},
   "outputs": [],
   "source": []
  }
 ],
 "metadata": {
  "kernelspec": {
   "display_name": "Python 3",
   "language": "python",
   "name": "python3"
  },
  "language_info": {
   "codemirror_mode": {
    "name": "ipython",
    "version": 3
   },
   "file_extension": ".py",
   "mimetype": "text/x-python",
   "name": "python",
   "nbconvert_exporter": "python",
   "pygments_lexer": "ipython3",
   "version": "3.8.3"
  }
 },
 "nbformat": 4,
 "nbformat_minor": 5
}
