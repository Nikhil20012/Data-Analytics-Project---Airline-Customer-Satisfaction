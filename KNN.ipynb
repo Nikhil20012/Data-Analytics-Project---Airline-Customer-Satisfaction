{
 "cells": [
  {
   "cell_type": "code",
   "execution_count": 9,
   "metadata": {},
   "outputs": [
    {
     "name": "stdout",
     "output_type": "stream",
     "text": [
      "Accuracy: 0.7083076686171851\n",
      "Error: 0.2916923313828149\n"
     ]
    }
   ],
   "source": [
    "import sklearn\n",
    "import numpy as np\n",
    "import pandas as pd\n",
    "from matplotlib import pyplot as plt\n",
    "from sklearn.metrics import confusion_matrix\n",
    "from sklearn.neighbors import KNeighborsClassifier\n",
    "from sklearn.model_selection import train_test_split\n",
    "import seaborn as sns\n",
    "from sklearn import metrics \n",
    "sns.set()\n",
    "\n",
    "df=pd.read_csv ('Invistico_Airline.csv')\n",
    "df.replace(\"satisfied\",int(1),inplace=True)\n",
    "df.replace(\"dissatisfied\",int(0),inplace=True)\n",
    "df.replace(\"Eco\",int(0),inplace=True)\n",
    "df.replace(\"Business\",int(2),inplace=True)\n",
    "df.replace(\"Eco Plus\",int(1),inplace=True)\n",
    "df.replace(\"Loyal Customer\",int(1),inplace=True)\n",
    "df.replace(\"disloyal Customer\",int(0),inplace=True)\n",
    "df.replace('Female',int(0),inplace = True)\n",
    "df.replace('Male',int(1),inplace = True)\n",
    "df.drop('Gate location',axis=1,inplace=True)\n",
    "df.drop('Type of Travel',axis=1,inplace=True)\n",
    "df['Arrival Delay in Minutes'] = df['Arrival Delay in Minutes'].fillna(df['Arrival Delay in Minutes'].median())\n",
    "X = df[['Gender', 'Customer Type', 'Age',\n",
    "       'Class', 'Flight Distance', 'Seat comfort',\n",
    "       'Departure/Arrival time convenient', 'Food and drink',\n",
    "       'Inflight wifi service', 'Inflight entertainment', 'Online support',\n",
    "       'Ease of Online booking', 'On-board service', 'Leg room service',\n",
    "       'Baggage handling', 'Checkin service', 'Cleanliness', 'Online boarding',\n",
    "       'Departure Delay in Minutes', 'Arrival Delay in Minutes']]\n",
    "y = df['satisfaction']\n",
    "\n",
    "X_train, X_test, y_train, y_test = train_test_split(X, y, test_size = 0.2, random_state=42)\n",
    "knn = KNeighborsClassifier(n_neighbors=11, metric='euclidean')\n",
    "knn.fit(X_train, y_train)\n",
    "y_pred = knn.predict(X_test)\n",
    "confusion_matrix(y_test, y_pred)\n",
    "print(\"Accuracy:\",metrics.accuracy_score(y_test, y_pred))\n",
    "from sklearn.metrics import mean_squared_error\n",
    "print(\"Error:\",mean_squared_error(y_test, y_pred))"
   ]
  },
  {
   "cell_type": "code",
   "execution_count": null,
   "metadata": {},
   "outputs": [],
   "source": []
  }
 ],
 "metadata": {
  "kernelspec": {
   "display_name": "Python 3",
   "language": "python",
   "name": "python3"
  },
  "language_info": {
   "codemirror_mode": {
    "name": "ipython",
    "version": 3
   },
   "file_extension": ".py",
   "mimetype": "text/x-python",
   "name": "python",
   "nbconvert_exporter": "python",
   "pygments_lexer": "ipython3",
   "version": "3.8.3"
  }
 },
 "nbformat": 4,
 "nbformat_minor": 5
}
