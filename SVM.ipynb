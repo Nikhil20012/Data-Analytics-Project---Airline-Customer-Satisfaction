{
 "cells": [
  {
   "cell_type": "code",
   "execution_count": 1,
   "metadata": {},
   "outputs": [],
   "source": [
    "import seaborn as sns\n",
    "import matplotlib.pyplot as plt\n",
    "import pandas as pd\n",
    "from sklearn import svm\n",
    "from sklearn import metrics\n",
    "df=pd.read_csv ('Invistico_Airline.csv')\n",
    "df.replace(\"satisfied\",int(1),inplace=True)\n",
    "df.replace(\"dissatisfied\",int(0),inplace=True)\n",
    "df.replace(\"Eco\",int(0),inplace=True)\n",
    "df.replace(\"Business\",int(2),inplace=True)\n",
    "df.replace(\"Eco Plus\",int(1),inplace=True)\n",
    "df.replace(\"Loyal Customer\",int(1),inplace=True)\n",
    "df.replace(\"disloyal Customer\",int(0),inplace=True)\n",
    "df.replace('Female',int(0),inplace = True)\n",
    "df.replace('Male',int(1),inplace = True)\n",
    "df.drop('Gate location',axis=1,inplace=True)\n",
    "df.drop('Type of Travel',axis=1,inplace=True)\n",
    "df['Arrival Delay in Minutes'] = df['Arrival Delay in Minutes'].fillna(df['Arrival Delay in Minutes'].median())\n"
   ]
  },
  {
   "cell_type": "code",
   "execution_count": 2,
   "metadata": {},
   "outputs": [],
   "source": [
    "df3 = df['satisfaction']\n",
    "df4 = df.drop('satisfaction',axis=1)"
   ]
  },
  {
   "cell_type": "code",
   "execution_count": null,
   "metadata": {},
   "outputs": [],
   "source": [
    "from sklearn.model_selection import train_test_split\n",
    "X_train, X_test, y_train, y_test = train_test_split(df4, df3, test_size=0.3,random_state=109) # 70% training and 30% test\n",
    "#Create a svm Classifier\n",
    "clf = svm.SVC(kernel='linear') # Linear Kernel\n",
    "#Train the model using the training sets\n",
    "clf.fit(X_train, y_train)\n"
   ]
  },
  {
   "cell_type": "code",
   "execution_count": null,
   "metadata": {},
   "outputs": [],
   "source": [
    "y_pred = clf.predict(X_test)\n",
    "# Model Accuracy: how often is the classifier correct?\n",
    "print(\"Accuracy:\",metrics.accuracy_score(y_test, y_pred))"
   ]
  },
  {
   "cell_type": "code",
   "execution_count": null,
   "metadata": {},
   "outputs": [],
   "source": []
  }
 ],
 "metadata": {
  "kernelspec": {
   "display_name": "Python 3",
   "language": "python",
   "name": "python3"
  },
  "language_info": {
   "codemirror_mode": {
    "name": "ipython",
    "version": 3
   },
   "file_extension": ".py",
   "mimetype": "text/x-python",
   "name": "python",
   "nbconvert_exporter": "python",
   "pygments_lexer": "ipython3",
   "version": "3.8.3"
  }
 },
 "nbformat": 4,
 "nbformat_minor": 4
}
