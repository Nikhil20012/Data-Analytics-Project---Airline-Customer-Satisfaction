{
 "cells": [
  {
   "cell_type": "code",
   "execution_count": 1,
   "metadata": {},
   "outputs": [],
   "source": [
    "import seaborn as sns\n",
    "import matplotlib.pyplot as plt\n",
    "import pandas as pd\n",
    "df=pd.read_csv ('Invistico_Airline.csv')\n",
    "df.replace(\"satisfied\",int(1),inplace=True)\n",
    "df.replace(\"dissatisfied\",int(0),inplace=True)\n",
    "df.replace(\"Eco\",int(0),inplace=True)\n",
    "df.replace(\"Business\",int(2),inplace=True)\n",
    "df.replace(\"Eco Plus\",int(1),inplace=True)\n",
    "df.replace(\"Loyal Customer\",int(1),inplace=True)\n",
    "df.replace(\"disloyal Customer\",int(0),inplace=True)\n",
    "df.replace('Female',int(0),inplace = True)\n",
    "df.replace('Male',int(1),inplace = True)\n",
    "df.drop('Gate location',axis=1,inplace=True)\n",
    "df.drop('Type of Travel',axis=1,inplace=True)\n",
    "df['Arrival Delay in Minutes'] = df['Arrival Delay in Minutes'].fillna(df['Arrival Delay in Minutes'].median())\n"
   ]
  },
  {
   "cell_type": "code",
   "execution_count": 2,
   "metadata": {},
   "outputs": [],
   "source": [
    "from sklearn.preprocessing import LabelEncoder\n",
    "from sklearn.preprocessing import Normalizer\n",
    "from sklearn.model_selection import train_test_split\n",
    "from sklearn.linear_model import LogisticRegression"
   ]
  },
  {
   "cell_type": "code",
   "execution_count": 3,
   "metadata": {},
   "outputs": [],
   "source": [
    "X_data = df.drop(['satisfaction'], axis = 1)\n",
    "y_data = df['satisfaction']"
   ]
  },
  {
   "cell_type": "code",
   "execution_count": 16,
   "metadata": {},
   "outputs": [],
   "source": [
    "X_train, X_test, y_train, y_test = train_test_split(\n",
    "    X_data, y_data, test_size=0.33, random_state=42)"
   ]
  },
  {
   "cell_type": "code",
   "execution_count": 18,
   "metadata": {},
   "outputs": [
    {
     "name": "stderr",
     "output_type": "stream",
     "text": [
      "C:\\Users\\nikhi\\anaconda3\\lib\\site-packages\\sklearn\\linear_model\\_logistic.py:762: ConvergenceWarning: lbfgs failed to converge (status=1):\n",
      "STOP: TOTAL NO. of ITERATIONS REACHED LIMIT.\n",
      "\n",
      "Increase the number of iterations (max_iter) or scale the data as shown in:\n",
      "    https://scikit-learn.org/stable/modules/preprocessing.html\n",
      "Please also refer to the documentation for alternative solver options:\n",
      "    https://scikit-learn.org/stable/modules/linear_model.html#logistic-regression\n",
      "  n_iter_i = _check_optimize_result(\n"
     ]
    }
   ],
   "source": [
    "log_reg = LogisticRegression()\n",
    "fit_model = log_reg.fit(X_train, y_train)\n",
    "preds = fit_model.predict(X_test)\n",
    "probs = fit_model.predict_proba(X_test)\n",
    "model_results = pd.DataFrame([preds, y_test, [elem[0] for elem in probs], [elem[1] for elem in probs]])\n",
    "model_results = model_results.T\n",
    "model_results.rename(columns = {0 : 'PredictedClass', 1 : 'TrueClass', 2 : 'ClassProb:0', 3 : 'ClassProb:1'}, inplace = True)\n"
   ]
  },
  {
   "cell_type": "code",
   "execution_count": 19,
   "metadata": {},
   "outputs": [
    {
     "name": "stdout",
     "output_type": "stream",
     "text": [
      "Number of True Classifications = 31731 \n",
      "Accurate Classification Ratio = 0.7403233708966193 \n"
     ]
    }
   ],
   "source": [
    "true_count = 0\n",
    "for pred, real in zip(model_results['PredictedClass'], model_results['TrueClass']):\n",
    "    if pred == real:\n",
    "        true_count = true_count + 1\n",
    "print(\"Number of True Classifications = {0} \".format(true_count))\n",
    "print(\"Accurate Classification Ratio = {0} \".format(true_count / len(y_test)))"
   ]
  },
  {
   "cell_type": "code",
   "execution_count": null,
   "metadata": {},
   "outputs": [],
   "source": []
  }
 ],
 "metadata": {
  "kernelspec": {
   "display_name": "Python 3",
   "language": "python",
   "name": "python3"
  },
  "language_info": {
   "codemirror_mode": {
    "name": "ipython",
    "version": 3
   },
   "file_extension": ".py",
   "mimetype": "text/x-python",
   "name": "python",
   "nbconvert_exporter": "python",
   "pygments_lexer": "ipython3",
   "version": "3.8.3"
  }
 },
 "nbformat": 4,
 "nbformat_minor": 4
}
